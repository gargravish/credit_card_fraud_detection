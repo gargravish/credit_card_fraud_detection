{
  "nbformat": 4,
  "nbformat_minor": 0,
  "metadata": {
    "colab": {
      "provenance": []
    },
    "language_info": {
      "codemirror_mode": {
        "name": "ipython",
        "version": 3
      },
      "file_extension": ".py",
      "mimetype": "text/x-python",
      "name": "python",
      "nbconvert_exporter": "python",
      "pygments_lexer": "ipython3",
      "version": "3.6.5"
    },
    "kernelspec": {
      "display_name": "Python 3",
      "language": "python",
      "name": "python3"
    }
  },
  "cells": [
    {
      "cell_type": "code",
      "metadata": {
        "id": "RO5ycS2msuKs"
      },
      "source": [
        "#importing packages\n",
        "%matplotlib inline\n",
        "import scipy.stats as stats\n",
        "import numpy as np\n",
        "import pandas as pd\n",
        "import matplotlib.pyplot as plt\n",
        "import seaborn as sns\n",
        "import random\n",
        "plt.style.use('ggplot')"
      ],
      "execution_count": null,
      "outputs": []
    },
    {
      "cell_type": "code",
      "metadata": {
        "id": "9ZAmDNdIsuKv",
        "outputId": "2b0fd577-7fc8-4b3e-a268-d681e70d8fb4",
        "colab": {
          "base_uri": "https://localhost:8080/",
          "height": 142
        }
      },
      "source": [
        "#1- Import Data\n",
        "#Original Dataset from Kaggle https://www.kaggle.com/mlg-ulb/creditcardfraud\n",
        "\n",
        "#import from google drive\n",
        "datapart1 = pd.read_csv(\"https://docs.google.com/uc?id=1au1K51mF2FfhdRVGYtKEMs-RJyiPeyTC&export=download\")\n",
        "datapart2 = pd.read_csv(\"https://docs.google.com/uc?id=1GabYXZ9Brd8wJXY2UIXBgjEWzfh7kyKB&export=download\")\n",
        "frames = [datapart1, datapart2]\n",
        "\n",
        "data= pd.concat(frames)\n",
        "data.reset_index(drop=True, inplace=True)\n",
        "#check the dataset\n",
        "data.head(3)"
      ],
      "execution_count": null,
      "outputs": [
        {
          "output_type": "execute_result",
          "data": {
            "application/vnd.google.colaboratory.module+javascript": "\n      import \"https://ssl.gstatic.com/colaboratory/data_table/81868506e94e6988/data_table.js\";\n\n      window.createDataTable({\n        data: [[{\n            'v': 0,\n            'f': \"0\",\n        },\n{\n            'v': 0,\n            'f': \"0\",\n        },\n{\n            'v': -1.3598071336738,\n            'f': \"-1.3598071336738\",\n        },\n{\n            'v': -0.0727811733098497,\n            'f': \"-0.0727811733098497\",\n        },\n{\n            'v': 2.53634673796914,\n            'f': \"2.53634673796914\",\n        },\n{\n            'v': 1.37815522427443,\n            'f': \"1.37815522427443\",\n        },\n{\n            'v': -0.33832076994251803,\n            'f': \"-0.33832076994251803\",\n        },\n{\n            'v': 0.462387777762292,\n            'f': \"0.462387777762292\",\n        },\n{\n            'v': 0.239598554061257,\n            'f': \"0.239598554061257\",\n        },\n{\n            'v': 0.0986979012610507,\n            'f': \"0.0986979012610507\",\n        },\n{\n            'v': 0.363786969611213,\n            'f': \"0.363786969611213\",\n        },\n{\n            'v': 0.0907941719789316,\n            'f': \"0.0907941719789316\",\n        },\n{\n            'v': -0.551599533260813,\n            'f': \"-0.551599533260813\",\n        },\n{\n            'v': -0.617800855762348,\n            'f': \"-0.617800855762348\",\n        },\n{\n            'v': -0.991389847235408,\n            'f': \"-0.991389847235408\",\n        },\n{\n            'v': -0.31116935369987897,\n            'f': \"-0.31116935369987897\",\n        },\n{\n            'v': 1.46817697209427,\n            'f': \"1.46817697209427\",\n        },\n{\n            'v': -0.47040052525947795,\n            'f': \"-0.47040052525947795\",\n        },\n{\n            'v': 0.20797124192924202,\n            'f': \"0.20797124192924202\",\n        },\n{\n            'v': 0.0257905801985591,\n            'f': \"0.0257905801985591\",\n        },\n{\n            'v': 0.403992960255733,\n            'f': \"0.403992960255733\",\n        }],\n [{\n            'v': 1,\n            'f': \"1\",\n        },\n{\n            'v': 0,\n            'f': \"0\",\n        },\n{\n            'v': 1.1918571113148602,\n            'f': \"1.1918571113148602\",\n        },\n{\n            'v': 0.26615071205963,\n            'f': \"0.26615071205963\",\n        },\n{\n            'v': 0.16648011335321,\n            'f': \"0.16648011335321\",\n        },\n{\n            'v': 0.448154078460911,\n            'f': \"0.448154078460911\",\n        },\n{\n            'v': 0.0600176492822243,\n            'f': \"0.0600176492822243\",\n        },\n{\n            'v': -0.0823608088155687,\n            'f': \"-0.0823608088155687\",\n        },\n{\n            'v': -0.0788029833323113,\n            'f': \"-0.0788029833323113\",\n        },\n{\n            'v': 0.0851016549148104,\n            'f': \"0.0851016549148104\",\n        },\n{\n            'v': -0.255425128109186,\n            'f': \"-0.255425128109186\",\n        },\n{\n            'v': -0.16697441400461402,\n            'f': \"-0.16697441400461402\",\n        },\n{\n            'v': 1.6127266610547901,\n            'f': \"1.6127266610547901\",\n        },\n{\n            'v': 1.06523531137287,\n            'f': \"1.06523531137287\",\n        },\n{\n            'v': 0.48909501589608,\n            'f': \"0.48909501589608\",\n        },\n{\n            'v': -0.143772296441519,\n            'f': \"-0.143772296441519\",\n        },\n{\n            'v': 0.635558093258208,\n            'f': \"0.635558093258208\",\n        },\n{\n            'v': 0.463917041022171,\n            'f': \"0.463917041022171\",\n        },\n{\n            'v': -0.114804663102346,\n            'f': \"-0.114804663102346\",\n        },\n{\n            'v': -0.18336127012399397,\n            'f': \"-0.18336127012399397\",\n        },\n{\n            'v': -0.14578304132525902,\n            'f': \"-0.14578304132525902\",\n        }],\n [{\n            'v': 2,\n            'f': \"2\",\n        },\n{\n            'v': 1,\n            'f': \"1\",\n        },\n{\n            'v': -1.35835406159823,\n            'f': \"-1.35835406159823\",\n        },\n{\n            'v': -1.3401630747360902,\n            'f': \"-1.3401630747360902\",\n        },\n{\n            'v': 1.77320934263119,\n            'f': \"1.77320934263119\",\n        },\n{\n            'v': 0.3797795930343279,\n            'f': \"0.3797795930343279\",\n        },\n{\n            'v': -0.503198133318193,\n            'f': \"-0.503198133318193\",\n        },\n{\n            'v': 1.80049938079263,\n            'f': \"1.80049938079263\",\n        },\n{\n            'v': 0.7914609564504219,\n            'f': \"0.7914609564504219\",\n        },\n{\n            'v': 0.24767578658899103,\n            'f': \"0.24767578658899103\",\n        },\n{\n            'v': -1.5146543226058302,\n            'f': \"-1.5146543226058302\",\n        },\n{\n            'v': 0.207642865216696,\n            'f': \"0.207642865216696\",\n        },\n{\n            'v': 0.6245014594248951,\n            'f': \"0.6245014594248951\",\n        },\n{\n            'v': 0.06608368526883099,\n            'f': \"0.06608368526883099\",\n        },\n{\n            'v': 0.7172927314108309,\n            'f': \"0.7172927314108309\",\n        },\n{\n            'v': -0.165945922763554,\n            'f': \"-0.165945922763554\",\n        },\n{\n            'v': 2.34586494901581,\n            'f': \"2.34586494901581\",\n        },\n{\n            'v': -2.8900831944423104,\n            'f': \"-2.8900831944423104\",\n        },\n{\n            'v': 1.10996937869599,\n            'f': \"1.10996937869599\",\n        },\n{\n            'v': -0.12135931319588801,\n            'f': \"-0.12135931319588801\",\n        },\n{\n            'v': -2.26185709530414,\n            'f': \"-2.26185709530414\",\n        }]],\n        columns: [[\"number\", \"index\"], [\"number\", \"Time\"], [\"number\", \"V1\"], [\"number\", \"V2\"], [\"number\", \"V3\"], [\"number\", \"V4\"], [\"number\", \"V5\"], [\"number\", \"V6\"], [\"number\", \"V7\"], [\"number\", \"V8\"], [\"number\", \"V9\"], [\"number\", \"V10\"], [\"number\", \"V11\"], [\"number\", \"V12\"], [\"number\", \"V13\"], [\"number\", \"V14\"], [\"number\", \"V15\"], [\"number\", \"V16\"], [\"number\", \"V17\"], [\"number\", \"V18\"], [\"number\", \"V19\"]],\n        rowsPerPage: 25,\n      });\n    ",
            "text/html": [
              "<div>\n",
              "<style scoped>\n",
              "    .dataframe tbody tr th:only-of-type {\n",
              "        vertical-align: middle;\n",
              "    }\n",
              "\n",
              "    .dataframe tbody tr th {\n",
              "        vertical-align: top;\n",
              "    }\n",
              "\n",
              "    .dataframe thead th {\n",
              "        text-align: right;\n",
              "    }\n",
              "</style>\n",
              "<table border=\"1\" class=\"dataframe\">\n",
              "  <thead>\n",
              "    <tr style=\"text-align: right;\">\n",
              "      <th></th>\n",
              "      <th>Time</th>\n",
              "      <th>V1</th>\n",
              "      <th>V2</th>\n",
              "      <th>V3</th>\n",
              "      <th>V4</th>\n",
              "      <th>V5</th>\n",
              "      <th>V6</th>\n",
              "      <th>V7</th>\n",
              "      <th>V8</th>\n",
              "      <th>V9</th>\n",
              "      <th>V10</th>\n",
              "      <th>V11</th>\n",
              "      <th>V12</th>\n",
              "      <th>V13</th>\n",
              "      <th>V14</th>\n",
              "      <th>V15</th>\n",
              "      <th>V16</th>\n",
              "      <th>V17</th>\n",
              "      <th>V18</th>\n",
              "      <th>V19</th>\n",
              "      <th>V20</th>\n",
              "      <th>V21</th>\n",
              "      <th>V22</th>\n",
              "      <th>V23</th>\n",
              "      <th>V24</th>\n",
              "      <th>V25</th>\n",
              "      <th>V26</th>\n",
              "      <th>V27</th>\n",
              "      <th>V28</th>\n",
              "      <th>Amount</th>\n",
              "      <th>Class</th>\n",
              "    </tr>\n",
              "  </thead>\n",
              "  <tbody>\n",
              "    <tr>\n",
              "      <th>0</th>\n",
              "      <td>0.0</td>\n",
              "      <td>-1.359807</td>\n",
              "      <td>-0.072781</td>\n",
              "      <td>2.536347</td>\n",
              "      <td>1.378155</td>\n",
              "      <td>-0.338321</td>\n",
              "      <td>0.462388</td>\n",
              "      <td>0.239599</td>\n",
              "      <td>0.098698</td>\n",
              "      <td>0.363787</td>\n",
              "      <td>0.090794</td>\n",
              "      <td>-0.551600</td>\n",
              "      <td>-0.617801</td>\n",
              "      <td>-0.991390</td>\n",
              "      <td>-0.311169</td>\n",
              "      <td>1.468177</td>\n",
              "      <td>-0.470401</td>\n",
              "      <td>0.207971</td>\n",
              "      <td>0.025791</td>\n",
              "      <td>0.403993</td>\n",
              "      <td>0.251412</td>\n",
              "      <td>-0.018307</td>\n",
              "      <td>0.277838</td>\n",
              "      <td>-0.110474</td>\n",
              "      <td>0.066928</td>\n",
              "      <td>0.128539</td>\n",
              "      <td>-0.189115</td>\n",
              "      <td>0.133558</td>\n",
              "      <td>-0.021053</td>\n",
              "      <td>149.62</td>\n",
              "      <td>0</td>\n",
              "    </tr>\n",
              "    <tr>\n",
              "      <th>1</th>\n",
              "      <td>0.0</td>\n",
              "      <td>1.191857</td>\n",
              "      <td>0.266151</td>\n",
              "      <td>0.166480</td>\n",
              "      <td>0.448154</td>\n",
              "      <td>0.060018</td>\n",
              "      <td>-0.082361</td>\n",
              "      <td>-0.078803</td>\n",
              "      <td>0.085102</td>\n",
              "      <td>-0.255425</td>\n",
              "      <td>-0.166974</td>\n",
              "      <td>1.612727</td>\n",
              "      <td>1.065235</td>\n",
              "      <td>0.489095</td>\n",
              "      <td>-0.143772</td>\n",
              "      <td>0.635558</td>\n",
              "      <td>0.463917</td>\n",
              "      <td>-0.114805</td>\n",
              "      <td>-0.183361</td>\n",
              "      <td>-0.145783</td>\n",
              "      <td>-0.069083</td>\n",
              "      <td>-0.225775</td>\n",
              "      <td>-0.638672</td>\n",
              "      <td>0.101288</td>\n",
              "      <td>-0.339846</td>\n",
              "      <td>0.167170</td>\n",
              "      <td>0.125895</td>\n",
              "      <td>-0.008983</td>\n",
              "      <td>0.014724</td>\n",
              "      <td>2.69</td>\n",
              "      <td>0</td>\n",
              "    </tr>\n",
              "    <tr>\n",
              "      <th>2</th>\n",
              "      <td>1.0</td>\n",
              "      <td>-1.358354</td>\n",
              "      <td>-1.340163</td>\n",
              "      <td>1.773209</td>\n",
              "      <td>0.379780</td>\n",
              "      <td>-0.503198</td>\n",
              "      <td>1.800499</td>\n",
              "      <td>0.791461</td>\n",
              "      <td>0.247676</td>\n",
              "      <td>-1.514654</td>\n",
              "      <td>0.207643</td>\n",
              "      <td>0.624501</td>\n",
              "      <td>0.066084</td>\n",
              "      <td>0.717293</td>\n",
              "      <td>-0.165946</td>\n",
              "      <td>2.345865</td>\n",
              "      <td>-2.890083</td>\n",
              "      <td>1.109969</td>\n",
              "      <td>-0.121359</td>\n",
              "      <td>-2.261857</td>\n",
              "      <td>0.524980</td>\n",
              "      <td>0.247998</td>\n",
              "      <td>0.771679</td>\n",
              "      <td>0.909412</td>\n",
              "      <td>-0.689281</td>\n",
              "      <td>-0.327642</td>\n",
              "      <td>-0.139097</td>\n",
              "      <td>-0.055353</td>\n",
              "      <td>-0.059752</td>\n",
              "      <td>378.66</td>\n",
              "      <td>0</td>\n",
              "    </tr>\n",
              "  </tbody>\n",
              "</table>\n",
              "</div>"
            ],
            "text/plain": [
              "   Time        V1        V2        V3  ...       V27       V28  Amount  Class\n",
              "0   0.0 -1.359807 -0.072781  2.536347  ...  0.133558 -0.021053  149.62      0\n",
              "1   0.0  1.191857  0.266151  0.166480  ... -0.008983  0.014724    2.69      0\n",
              "2   1.0 -1.358354 -1.340163  1.773209  ... -0.055353 -0.059752  378.66      0\n",
              "\n",
              "[3 rows x 31 columns]"
            ]
          },
          "metadata": {
            "tags": []
          },
          "execution_count": 3
        }
      ]
    },
    {
      "cell_type": "code",
      "metadata": {
        "id": "RXuD-mmosuK0"
      },
      "source": [
        "# Due to confidentiality, contains only numerical variables resulting of a PCA transformation. You could check the original dataset description on Kaggle for the details"
      ],
      "execution_count": null,
      "outputs": []
    },
    {
      "cell_type": "code",
      "metadata": {
        "id": "NCjSssInsuK8",
        "outputId": "5b659bbc-1dff-42a2-8c22-752daff70306",
        "colab": {
          "base_uri": "https://localhost:8080/",
          "height": 371
        }
      },
      "source": [
        "#2- Explore Data\n",
        "#visualizations of time and amount\n",
        "plt.title('Transactions over Time')\n",
        "plt.hist(data.Time)"
      ],
      "execution_count": null,
      "outputs": [
        {
          "output_type": "execute_result",
          "data": {
            "text/plain": [
              "(array([10510., 16955., 38526., 38550., 40243., 10145., 17161., 38951.,\n",
              "        40779., 32987.]),\n",
              " array([     0. ,  17279.2,  34558.4,  51837.6,  69116.8,  86396. ,\n",
              "        103675.2, 120954.4, 138233.6, 155512.8, 172792. ]),\n",
              " <a list of 10 Patch objects>)"
            ]
          },
          "metadata": {
            "tags": []
          },
          "execution_count": 5
        },
        {
          "output_type": "display_data",
          "data": {
            "image/png": "[encoded data removed]",
            "text/plain": [
              "<Figure size 432x288 with 1 Axes>"
            ]
          },
          "metadata": {
            "tags": []
          }
        }
      ]
    },
    {
      "cell_type": "code",
      "metadata": {
        "id": "Kc309pD_suK_",
        "outputId": "9588fc3e-d695-4912-bf99-1114dfed934c",
        "colab": {
          "base_uri": "https://localhost:8080/",
          "height": 371
        }
      },
      "source": [
        "#Amounts visualization\n",
        "plt.title('Transaction amounts distribution')\n",
        "plt.hist(data.Amount)\n",
        "# the mean amount is around $90 and the maximum transaction is aroung $25,000"
      ],
      "execution_count": null,
      "outputs": [
        {
          "output_type": "execute_result",
          "data": {
            "text/plain": [
              "(array([2.84395e+05, 3.60000e+02, 3.60000e+01, 1.00000e+01, 2.00000e+00,\n",
              "        1.00000e+00, 0.00000e+00, 2.00000e+00, 0.00000e+00, 1.00000e+00]),\n",
              " array([    0.   ,  2569.116,  5138.232,  7707.348, 10276.464, 12845.58 ,\n",
              "        15414.696, 17983.812, 20552.928, 23122.044, 25691.16 ]),\n",
              " <a list of 10 Patch objects>)"
            ]
          },
          "metadata": {
            "tags": []
          },
          "execution_count": 6
        },
        {
          "output_type": "display_data",
          "data": {
            "image/png": "[encoded data removed]",
            "text/plain": [
              "<Figure size 432x288 with 1 Axes>"
            ]
          },
          "metadata": {
            "tags": []
          }
        }
      ]
    },
    {
      "cell_type": "code",
      "metadata": {
        "id": "i3XJm947suLD",
        "outputId": "eeb4a735-29b0-4aa2-c7e9-13287f8dc5f7",
        "colab": {
          "base_uri": "https://localhost:8080/",
          "height": 35
        }
      },
      "source": [
        "#fraud vs. legit transactions count\n",
        "count = data.Class.value_counts()\n",
        "legit = count[0]\n",
        "fraud = count[1]\n",
        "legit_pct = (legit/(legit+fraud))*100\n",
        "fraud_pct = (fraud/(legit+fraud))*100\n",
        "print('   {:.3f}% legit transactions, total count of {} vs {:.3f}% fraud transactions , total count of {}.'.format(legit_pct,legit, fraud_pct,fraud))"
      ],
      "execution_count": null,
      "outputs": [
        {
          "output_type": "stream",
          "text": [
            "   99.827% legit transactions, total count of 284315 vs 0.173% fraud transactions , total count of 492.\n"
          ],
          "name": "stdout"
        }
      ]
    },
    {
      "cell_type": "code",
      "metadata": {
        "id": "Va3u9l4jsuLF",
        "outputId": "215d9395-af6e-44dc-a739-464b3770cd7a",
        "colab": {
          "base_uri": "https://localhost:8080/",
          "height": 317
        }
      },
      "source": [
        "#fraud vs. normal transactions visualization\n",
        "sns.barplot(x=count.index, y=count)\n",
        "plt.title('Legit vs Fraud transactions volume')\n",
        "plt.ylabel('transaction volume')\n",
        "plt.xlabel('0:Legit transactions  vs  1:Fraudulent transactions')\n",
        "\n",
        "#There is very few fraud transactions but lots of legit ones, we should take care of this Underbalanced class representation\n",
        "#following recos published: https://www.researchgate.net/publication/283349138_Calibrating_Probability_with_Undersampling_for_Unbalanced_Classification"
      ],
      "execution_count": null,
      "outputs": [
        {
          "output_type": "execute_result",
          "data": {
            "text/plain": [
              "Text(0.5, 0, '0:Legit transactions  vs  1:Fraudulent transactions')"
            ]
          },
          "metadata": {
            "tags": []
          },
          "execution_count": 8
        },
        {
          "output_type": "display_data",
          "data": {
            "image/png": "[encoded data removed]",
            "text/plain": [
              "<Figure size 432x288 with 1 Axes>"
            ]
          },
          "metadata": {
            "tags": []
          }
        }
      ]
    },
    {
      "cell_type": "code",
      "metadata": {
        "id": "oaI5pj0DsuLK",
        "outputId": "a491d1a4-6bf8-40e4-a570-d65df8f69590",
        "colab": {
          "base_uri": "https://localhost:8080/",
          "height": 317
        }
      },
      "source": [
        "#Check if there is any dependencies between the diffrent variables, if so we can combine them\n",
        "corr = data.corr()\n",
        "heat = sns.heatmap(data=corr)\n",
        "plt.title('Correlogram')"
      ],
      "execution_count": null,
      "outputs": [
        {
          "output_type": "execute_result",
          "data": {
            "text/plain": [
              "Text(0.5, 1.0, 'Correlogram')"
            ]
          },
          "metadata": {
            "tags": []
          },
          "execution_count": 9
        },
        {
          "output_type": "display_data",
          "data": {
            "image/png": "[encoded data removed]",
            "text/plain": [
              "<Figure size 432x288 with 2 Axes>"
            ]
          },
          "metadata": {
            "tags": []
          }
        }
      ]
    },
    {
      "cell_type": "code",
      "metadata": {
        "id": "_e4n8VV3suLN",
        "outputId": "8d51fa60-40ae-496c-a389-925b1f26b94f",
        "colab": {
          "base_uri": "https://localhost:8080/",
          "height": 586
        }
      },
      "source": [
        "# Check if there is any asymetric variable, if so we can scale them\n",
        "asymetry = data.skew()\n",
        "asymetry"
      ],
      "execution_count": null,
      "outputs": [
        {
          "output_type": "execute_result",
          "data": {
            "text/plain": [
              "Time      -0.035568\n",
              "V1        -3.280667\n",
              "V2        -4.624866\n",
              "V3        -2.240155\n",
              "V4         0.676292\n",
              "V5        -2.425901\n",
              "V6         1.826581\n",
              "V7         2.553907\n",
              "V8        -8.521944\n",
              "V9         0.554680\n",
              "V10        1.187141\n",
              "V11        0.356506\n",
              "V12       -2.278401\n",
              "V13        0.065233\n",
              "V14       -1.995176\n",
              "V15       -0.308423\n",
              "V16       -1.100966\n",
              "V17       -3.844914\n",
              "V18       -0.259880\n",
              "V19        0.109192\n",
              "V20       -2.037155\n",
              "V21        3.592991\n",
              "V22       -0.213258\n",
              "V23       -5.875140\n",
              "V24       -0.552499\n",
              "V25       -0.415793\n",
              "V26        0.576693\n",
              "V27       -1.170209\n",
              "V28       11.192091\n",
              "Amount    16.977724\n",
              "Class     23.997579\n",
              "dtype: float64"
            ]
          },
          "metadata": {
            "tags": []
          },
          "execution_count": 10
        }
      ]
    },
    {
      "cell_type": "code",
      "metadata": {
        "id": "0zjNFmeZsuLT"
      },
      "source": [
        "#3- Prepare data\n",
        "\n",
        "#Scaling Time and Amount, to have the mean 0 and Std Deviation 1\n",
        "from sklearn.preprocessing import StandardScaler\n",
        "scaler = StandardScaler()\n",
        "\n",
        "#scaling time\n",
        "scaled_time = scaler.fit_transform(data[['Time']])\n",
        "flat_list1 = [item for sublist in scaled_time.tolist() for item in sublist]\n",
        "scaled_time = pd.Series(flat_list1)\n",
        "\n",
        "scaler2 = StandardScaler()\n",
        "#scaling the amount column\n",
        "scaled_amount = scaler2.fit_transform(data[['Amount']])\n",
        "flat_list2 = [item for sublist in scaled_amount.tolist() for item in sublist]\n",
        "scaled_amount = pd.Series(flat_list2)"
      ],
      "execution_count": null,
      "outputs": []
    },
    {
      "cell_type": "code",
      "metadata": {
        "id": "eYnLX5E3suLY",
        "outputId": "93050fa9-6ce4-4f78-d69a-5a7229f40e93",
        "colab": {
          "base_uri": "https://localhost:8080/",
          "height": 142
        }
      },
      "source": [
        "#Reseting Index as we randomly took transactions they came with their indexes from first dataset\n",
        "scaled_amount.reset_index(drop=True, inplace=True)\n",
        "scaled_time.reset_index(drop=True, inplace=True)\n",
        "\n",
        "#Substitute time and amount by scaled time and amount\n",
        "data = pd.concat([data, scaled_amount.rename('scaled_amount'), scaled_time.rename('scaled_time')], axis=1)\n",
        "\n",
        "#dropping old amount and time columns\n",
        "data.drop(['Amount', 'Time'], axis=1, inplace=True)\n",
        "\n",
        "data.head(3)"
      ],
      "execution_count": null,
      "outputs": [
        {
          "output_type": "execute_result",
          "data": {
            "application/vnd.google.colaboratory.module+javascript": "\n      import \"https://ssl.gstatic.com/colaboratory/data_table/81868506e94e6988/data_table.js\";\n\n      window.createDataTable({\n        data: [[{\n            'v': 0,\n            'f': \"0\",\n        },\n{\n            'v': -1.3598071336738,\n            'f': \"-1.3598071336738\",\n        },\n{\n            'v': -0.0727811733098497,\n            'f': \"-0.0727811733098497\",\n        },\n{\n            'v': 2.53634673796914,\n            'f': \"2.53634673796914\",\n        },\n{\n            'v': 1.37815522427443,\n            'f': \"1.37815522427443\",\n        },\n{\n            'v': -0.33832076994251803,\n            'f': \"-0.33832076994251803\",\n        },\n{\n            'v': 0.462387777762292,\n            'f': \"0.462387777762292\",\n        },\n{\n            'v': 0.239598554061257,\n            'f': \"0.239598554061257\",\n        },\n{\n            'v': 0.0986979012610507,\n            'f': \"0.0986979012610507\",\n        },\n{\n            'v': 0.363786969611213,\n            'f': \"0.363786969611213\",\n        },\n{\n            'v': 0.0907941719789316,\n            'f': \"0.0907941719789316\",\n        },\n{\n            'v': -0.551599533260813,\n            'f': \"-0.551599533260813\",\n        },\n{\n            'v': -0.617800855762348,\n            'f': \"-0.617800855762348\",\n        },\n{\n            'v': -0.991389847235408,\n            'f': \"-0.991389847235408\",\n        },\n{\n            'v': -0.31116935369987897,\n            'f': \"-0.31116935369987897\",\n        },\n{\n            'v': 1.46817697209427,\n            'f': \"1.46817697209427\",\n        },\n{\n            'v': -0.47040052525947795,\n            'f': \"-0.47040052525947795\",\n        },\n{\n            'v': 0.20797124192924202,\n            'f': \"0.20797124192924202\",\n        },\n{\n            'v': 0.0257905801985591,\n            'f': \"0.0257905801985591\",\n        },\n{\n            'v': 0.403992960255733,\n            'f': \"0.403992960255733\",\n        },\n{\n            'v': 0.251412098239705,\n            'f': \"0.251412098239705\",\n        }],\n [{\n            'v': 1,\n            'f': \"1\",\n        },\n{\n            'v': 1.1918571113148602,\n            'f': \"1.1918571113148602\",\n        },\n{\n            'v': 0.26615071205963,\n            'f': \"0.26615071205963\",\n        },\n{\n            'v': 0.16648011335321,\n            'f': \"0.16648011335321\",\n        },\n{\n            'v': 0.448154078460911,\n            'f': \"0.448154078460911\",\n        },\n{\n            'v': 0.0600176492822243,\n            'f': \"0.0600176492822243\",\n        },\n{\n            'v': -0.0823608088155687,\n            'f': \"-0.0823608088155687\",\n        },\n{\n            'v': -0.0788029833323113,\n            'f': \"-0.0788029833323113\",\n        },\n{\n            'v': 0.0851016549148104,\n            'f': \"0.0851016549148104\",\n        },\n{\n            'v': -0.255425128109186,\n            'f': \"-0.255425128109186\",\n        },\n{\n            'v': -0.16697441400461402,\n            'f': \"-0.16697441400461402\",\n        },\n{\n            'v': 1.6127266610547901,\n            'f': \"1.6127266610547901\",\n        },\n{\n            'v': 1.06523531137287,\n            'f': \"1.06523531137287\",\n        },\n{\n            'v': 0.48909501589608,\n            'f': \"0.48909501589608\",\n        },\n{\n            'v': -0.143772296441519,\n            'f': \"-0.143772296441519\",\n        },\n{\n            'v': 0.635558093258208,\n            'f': \"0.635558093258208\",\n        },\n{\n            'v': 0.463917041022171,\n            'f': \"0.463917041022171\",\n        },\n{\n            'v': -0.114804663102346,\n            'f': \"-0.114804663102346\",\n        },\n{\n            'v': -0.18336127012399397,\n            'f': \"-0.18336127012399397\",\n        },\n{\n            'v': -0.14578304132525902,\n            'f': \"-0.14578304132525902\",\n        },\n{\n            'v': -0.0690831352230203,\n            'f': \"-0.0690831352230203\",\n        }],\n [{\n            'v': 2,\n            'f': \"2\",\n        },\n{\n            'v': -1.35835406159823,\n            'f': \"-1.35835406159823\",\n        },\n{\n            'v': -1.3401630747360902,\n            'f': \"-1.3401630747360902\",\n        },\n{\n            'v': 1.77320934263119,\n            'f': \"1.77320934263119\",\n        },\n{\n            'v': 0.3797795930343279,\n            'f': \"0.3797795930343279\",\n        },\n{\n            'v': -0.503198133318193,\n            'f': \"-0.503198133318193\",\n        },\n{\n            'v': 1.80049938079263,\n            'f': \"1.80049938079263\",\n        },\n{\n            'v': 0.7914609564504219,\n            'f': \"0.7914609564504219\",\n        },\n{\n            'v': 0.24767578658899103,\n            'f': \"0.24767578658899103\",\n        },\n{\n            'v': -1.5146543226058302,\n            'f': \"-1.5146543226058302\",\n        },\n{\n            'v': 0.207642865216696,\n            'f': \"0.207642865216696\",\n        },\n{\n            'v': 0.6245014594248951,\n            'f': \"0.6245014594248951\",\n        },\n{\n            'v': 0.06608368526883099,\n            'f': \"0.06608368526883099\",\n        },\n{\n            'v': 0.7172927314108309,\n            'f': \"0.7172927314108309\",\n        },\n{\n            'v': -0.165945922763554,\n            'f': \"-0.165945922763554\",\n        },\n{\n            'v': 2.34586494901581,\n            'f': \"2.34586494901581\",\n        },\n{\n            'v': -2.8900831944423104,\n            'f': \"-2.8900831944423104\",\n        },\n{\n            'v': 1.10996937869599,\n            'f': \"1.10996937869599\",\n        },\n{\n            'v': -0.12135931319588801,\n            'f': \"-0.12135931319588801\",\n        },\n{\n            'v': -2.26185709530414,\n            'f': \"-2.26185709530414\",\n        },\n{\n            'v': 0.524979725224404,\n            'f': \"0.524979725224404\",\n        }]],\n        columns: [[\"number\", \"index\"], [\"number\", \"V1\"], [\"number\", \"V2\"], [\"number\", \"V3\"], [\"number\", \"V4\"], [\"number\", \"V5\"], [\"number\", \"V6\"], [\"number\", \"V7\"], [\"number\", \"V8\"], [\"number\", \"V9\"], [\"number\", \"V10\"], [\"number\", \"V11\"], [\"number\", \"V12\"], [\"number\", \"V13\"], [\"number\", \"V14\"], [\"number\", \"V15\"], [\"number\", \"V16\"], [\"number\", \"V17\"], [\"number\", \"V18\"], [\"number\", \"V19\"], [\"number\", \"V20\"]],\n        rowsPerPage: 25,\n      });\n    ",
            "text/html": [
              "<div>\n",
              "<style scoped>\n",
              "    .dataframe tbody tr th:only-of-type {\n",
              "        vertical-align: middle;\n",
              "    }\n",
              "\n",
              "    .dataframe tbody tr th {\n",
              "        vertical-align: top;\n",
              "    }\n",
              "\n",
              "    .dataframe thead th {\n",
              "        text-align: right;\n",
              "    }\n",
              "</style>\n",
              "<table border=\"1\" class=\"dataframe\">\n",
              "  <thead>\n",
              "    <tr style=\"text-align: right;\">\n",
              "      <th></th>\n",
              "      <th>V1</th>\n",
              "      <th>V2</th>\n",
              "      <th>V3</th>\n",
              "      <th>V4</th>\n",
              "      <th>V5</th>\n",
              "      <th>V6</th>\n",
              "      <th>V7</th>\n",
              "      <th>V8</th>\n",
              "      <th>V9</th>\n",
              "      <th>V10</th>\n",
              "      <th>V11</th>\n",
              "      <th>V12</th>\n",
              "      <th>V13</th>\n",
              "      <th>V14</th>\n",
              "      <th>V15</th>\n",
              "      <th>V16</th>\n",
              "      <th>V17</th>\n",
              "      <th>V18</th>\n",
              "      <th>V19</th>\n",
              "      <th>V20</th>\n",
              "      <th>V21</th>\n",
              "      <th>V22</th>\n",
              "      <th>V23</th>\n",
              "      <th>V24</th>\n",
              "      <th>V25</th>\n",
              "      <th>V26</th>\n",
              "      <th>V27</th>\n",
              "      <th>V28</th>\n",
              "      <th>Class</th>\n",
              "      <th>scaled_amount</th>\n",
              "      <th>scaled_time</th>\n",
              "    </tr>\n",
              "  </thead>\n",
              "  <tbody>\n",
              "    <tr>\n",
              "      <th>0</th>\n",
              "      <td>-1.359807</td>\n",
              "      <td>-0.072781</td>\n",
              "      <td>2.536347</td>\n",
              "      <td>1.378155</td>\n",
              "      <td>-0.338321</td>\n",
              "      <td>0.462388</td>\n",
              "      <td>0.239599</td>\n",
              "      <td>0.098698</td>\n",
              "      <td>0.363787</td>\n",
              "      <td>0.090794</td>\n",
              "      <td>-0.551600</td>\n",
              "      <td>-0.617801</td>\n",
              "      <td>-0.991390</td>\n",
              "      <td>-0.311169</td>\n",
              "      <td>1.468177</td>\n",
              "      <td>-0.470401</td>\n",
              "      <td>0.207971</td>\n",
              "      <td>0.025791</td>\n",
              "      <td>0.403993</td>\n",
              "      <td>0.251412</td>\n",
              "      <td>-0.018307</td>\n",
              "      <td>0.277838</td>\n",
              "      <td>-0.110474</td>\n",
              "      <td>0.066928</td>\n",
              "      <td>0.128539</td>\n",
              "      <td>-0.189115</td>\n",
              "      <td>0.133558</td>\n",
              "      <td>-0.021053</td>\n",
              "      <td>0</td>\n",
              "      <td>0.244964</td>\n",
              "      <td>-1.996583</td>\n",
              "    </tr>\n",
              "    <tr>\n",
              "      <th>1</th>\n",
              "      <td>1.191857</td>\n",
              "      <td>0.266151</td>\n",
              "      <td>0.166480</td>\n",
              "      <td>0.448154</td>\n",
              "      <td>0.060018</td>\n",
              "      <td>-0.082361</td>\n",
              "      <td>-0.078803</td>\n",
              "      <td>0.085102</td>\n",
              "      <td>-0.255425</td>\n",
              "      <td>-0.166974</td>\n",
              "      <td>1.612727</td>\n",
              "      <td>1.065235</td>\n",
              "      <td>0.489095</td>\n",
              "      <td>-0.143772</td>\n",
              "      <td>0.635558</td>\n",
              "      <td>0.463917</td>\n",
              "      <td>-0.114805</td>\n",
              "      <td>-0.183361</td>\n",
              "      <td>-0.145783</td>\n",
              "      <td>-0.069083</td>\n",
              "      <td>-0.225775</td>\n",
              "      <td>-0.638672</td>\n",
              "      <td>0.101288</td>\n",
              "      <td>-0.339846</td>\n",
              "      <td>0.167170</td>\n",
              "      <td>0.125895</td>\n",
              "      <td>-0.008983</td>\n",
              "      <td>0.014724</td>\n",
              "      <td>0</td>\n",
              "      <td>-0.342475</td>\n",
              "      <td>-1.996583</td>\n",
              "    </tr>\n",
              "    <tr>\n",
              "      <th>2</th>\n",
              "      <td>-1.358354</td>\n",
              "      <td>-1.340163</td>\n",
              "      <td>1.773209</td>\n",
              "      <td>0.379780</td>\n",
              "      <td>-0.503198</td>\n",
              "      <td>1.800499</td>\n",
              "      <td>0.791461</td>\n",
              "      <td>0.247676</td>\n",
              "      <td>-1.514654</td>\n",
              "      <td>0.207643</td>\n",
              "      <td>0.624501</td>\n",
              "      <td>0.066084</td>\n",
              "      <td>0.717293</td>\n",
              "      <td>-0.165946</td>\n",
              "      <td>2.345865</td>\n",
              "      <td>-2.890083</td>\n",
              "      <td>1.109969</td>\n",
              "      <td>-0.121359</td>\n",
              "      <td>-2.261857</td>\n",
              "      <td>0.524980</td>\n",
              "      <td>0.247998</td>\n",
              "      <td>0.771679</td>\n",
              "      <td>0.909412</td>\n",
              "      <td>-0.689281</td>\n",
              "      <td>-0.327642</td>\n",
              "      <td>-0.139097</td>\n",
              "      <td>-0.055353</td>\n",
              "      <td>-0.059752</td>\n",
              "      <td>0</td>\n",
              "      <td>1.160686</td>\n",
              "      <td>-1.996562</td>\n",
              "    </tr>\n",
              "  </tbody>\n",
              "</table>\n",
              "</div>"
            ],
            "text/plain": [
              "         V1        V2        V3  ...  Class  scaled_amount  scaled_time\n",
              "0 -1.359807 -0.072781  2.536347  ...      0       0.244964    -1.996583\n",
              "1  1.191857  0.266151  0.166480  ...      0      -0.342475    -1.996583\n",
              "2 -1.358354 -1.340163  1.773209  ...      0       1.160686    -1.996562\n",
              "\n",
              "[3 rows x 31 columns]"
            ]
          },
          "metadata": {
            "tags": []
          },
          "execution_count": 12
        }
      ]
    },
    {
      "cell_type": "code",
      "metadata": {
        "id": "5IdzwojasuLf"
      },
      "source": [
        "# Split the dataset in Training 70%  and Testing datasets\n",
        "mask = np.random.rand(len(data)) < 0.90\n",
        "train = data[mask]\n",
        "test = data[~mask]\n",
        "\n",
        "#Reseting Index as we randomly took transactions they came with their indexes from first dataset\n",
        "train.reset_index(drop=True, inplace=True)\n",
        "test.reset_index(drop=True, inplace=True)"
      ],
      "execution_count": null,
      "outputs": []
    },
    {
      "cell_type": "code",
      "metadata": {
        "id": "4DGh1rTBsuLn",
        "outputId": "2847cea2-323a-4099-f5c9-711df6bfddd3",
        "colab": {
          "base_uri": "https://localhost:8080/",
          "height": 35
        }
      },
      "source": [
        "#how many random samples from normal transactions do we need?\n",
        "trainingFraudulentCount = train.Class.value_counts()[1]\n",
        "print('There are {} fraudulent transactions in the train data.'.format(trainingFraudulentCount))"
      ],
      "execution_count": null,
      "outputs": [
        {
          "output_type": "stream",
          "text": [
            "There are 441 fraudulent transactions in the train data.\n"
          ],
          "name": "stdout"
        }
      ]
    },
    {
      "cell_type": "code",
      "metadata": {
        "id": "XfQkUSuhsuLq"
      },
      "source": [
        "#Select randomly same volume of legit transactions\n",
        "trainLegit = train[train['Class'] == 0]\n",
        "trainFraud = train[train['Class'] == 1]"
      ],
      "execution_count": null,
      "outputs": []
    },
    {
      "cell_type": "code",
      "metadata": {
        "id": "XM6fpFYjsuLs",
        "outputId": "8bab9841-9932-4dc7-e204-a34e7072ca55",
        "colab": {
          "base_uri": "https://localhost:8080/",
          "height": 142
        }
      },
      "source": [
        "filteredTrainLegit = trainLegit.sample(trainingFraudulentCount)\n",
        "filteredTrainLegit.head(3)"
      ],
      "execution_count": null,
      "outputs": [
        {
          "output_type": "execute_result",
          "data": {
            "application/vnd.google.colaboratory.module+javascript": "\n      import \"https://ssl.gstatic.com/colaboratory/data_table/81868506e94e6988/data_table.js\";\n\n      window.createDataTable({\n        data: [[{\n            'v': 107489,\n            'f': \"107489\",\n        },\n{\n            'v': 1.12637630112247,\n            'f': \"1.12637630112247\",\n        },\n{\n            'v': -1.0982484234544498,\n            'f': \"-1.0982484234544498\",\n        },\n{\n            'v': -0.5777643567083729,\n            'f': \"-0.5777643567083729\",\n        },\n{\n            'v': -0.7593791993552891,\n            'f': \"-0.7593791993552891\",\n        },\n{\n            'v': -0.33211674545927006,\n            'f': \"-0.33211674545927006\",\n        },\n{\n            'v': 0.41679059890968,\n            'f': \"0.41679059890968\",\n        },\n{\n            'v': -0.313358281749357,\n            'f': \"-0.313358281749357\",\n        },\n{\n            'v': 0.0877881936684583,\n            'f': \"0.0877881936684583\",\n        },\n{\n            'v': -0.833830718453638,\n            'f': \"-0.833830718453638\",\n        },\n{\n            'v': 0.715773556511558,\n            'f': \"0.715773556511558\",\n        },\n{\n            'v': -0.0457563411882722,\n            'f': \"-0.0457563411882722\",\n        },\n{\n            'v': -0.21707797424900602,\n            'f': \"-0.21707797424900602\",\n        },\n{\n            'v': -0.811821716451223,\n            'f': \"-0.811821716451223\",\n        },\n{\n            'v': 0.42373634139772204,\n            'f': \"0.42373634139772204\",\n        },\n{\n            'v': -0.27020364162189003,\n            'f': \"-0.27020364162189003\",\n        },\n{\n            'v': -1.4839386106964099,\n            'f': \"-1.4839386106964099\",\n        },\n{\n            'v': -0.0155189128374234,\n            'f': \"-0.0155189128374234\",\n        },\n{\n            'v': 1.1837405711981002,\n            'f': \"1.1837405711981002\",\n        },\n{\n            'v': -0.130603772409188,\n            'f': \"-0.130603772409188\",\n        },\n{\n            'v': -0.264190835438773,\n            'f': \"-0.264190835438773\",\n        }],\n [{\n            'v': 137794,\n            'f': \"137794\",\n        },\n{\n            'v': -0.694912513320031,\n            'f': \"-0.694912513320031\",\n        },\n{\n            'v': 0.9569268252158779,\n            'f': \"0.9569268252158779\",\n        },\n{\n            'v': 0.6691754626057149,\n            'f': \"0.6691754626057149\",\n        },\n{\n            'v': -0.9506769498589499,\n            'f': \"-0.9506769498589499\",\n        },\n{\n            'v': 1.4212924158849698,\n            'f': \"1.4212924158849698\",\n        },\n{\n            'v': -1.2321310102194198,\n            'f': \"-1.2321310102194198\",\n        },\n{\n            'v': 1.7277064569994802,\n            'f': \"1.7277064569994802\",\n        },\n{\n            'v': -1.02172583114294,\n            'f': \"-1.02172583114294\",\n        },\n{\n            'v': 1.96849910409772,\n            'f': \"1.96849910409772\",\n        },\n{\n            'v': 0.166092136037605,\n            'f': \"0.166092136037605\",\n        },\n{\n            'v': 0.261408391125218,\n            'f': \"0.261408391125218\",\n        },\n{\n            'v': -2.42711704114957,\n            'f': \"-2.42711704114957\",\n        },\n{\n            'v': 1.9486327857646497,\n            'f': \"1.9486327857646497\",\n        },\n{\n            'v': 0.864259411573048,\n            'f': \"0.864259411573048\",\n        },\n{\n            'v': -1.00538410062262,\n            'f': \"-1.00538410062262\",\n        },\n{\n            'v': -0.824551025465323,\n            'f': \"-0.824551025465323\",\n        },\n{\n            'v': 0.0149789528080856,\n            'f': \"0.0149789528080856\",\n        },\n{\n            'v': -0.412742764118995,\n            'f': \"-0.412742764118995\",\n        },\n{\n            'v': -0.0779384729543119,\n            'f': \"-0.0779384729543119\",\n        },\n{\n            'v': 0.413733092937607,\n            'f': \"0.413733092937607\",\n        }],\n [{\n            'v': 75186,\n            'f': \"75186\",\n        },\n{\n            'v': -0.8593918151582008,\n            'f': \"-0.8593918151582008\",\n        },\n{\n            'v': 0.8692262669444599,\n            'f': \"0.8692262669444599\",\n        },\n{\n            'v': 1.58994845711617,\n            'f': \"1.58994845711617\",\n        },\n{\n            'v': 0.116450440622144,\n            'f': \"0.116450440622144\",\n        },\n{\n            'v': 0.6836226512824529,\n            'f': \"0.6836226512824529\",\n        },\n{\n            'v': 0.6101003884029189,\n            'f': \"0.6101003884029189\",\n        },\n{\n            'v': 0.674791738998479,\n            'f': \"0.674791738998479\",\n        },\n{\n            'v': 0.32017690477014193,\n            'f': \"0.32017690477014193\",\n        },\n{\n            'v': -0.440045252614939,\n            'f': \"-0.440045252614939\",\n        },\n{\n            'v': -0.578623760337434,\n            'f': \"-0.578623760337434\",\n        },\n{\n            'v': 1.1094065323606102,\n            'f': \"1.1094065323606102\",\n        },\n{\n            'v': 0.8899887139609609,\n            'f': \"0.8899887139609609\",\n        },\n{\n            'v': -0.5934325945153129,\n            'f': \"-0.5934325945153129\",\n        },\n{\n            'v': 0.16208740706841002,\n            'f': \"0.16208740706841002\",\n        },\n{\n            'v': -1.1655079609266001,\n            'f': \"-1.1655079609266001\",\n        },\n{\n            'v': -0.673111868042344,\n            'f': \"-0.673111868042344\",\n        },\n{\n            'v': 0.0515824374055297,\n            'f': \"0.0515824374055297\",\n        },\n{\n            'v': -0.826347829459612,\n            'f': \"-0.826347829459612\",\n        },\n{\n            'v': -0.981205698820836,\n            'f': \"-0.981205698820836\",\n        },\n{\n            'v': -0.27804131563642,\n            'f': \"-0.27804131563642\",\n        }]],\n        columns: [[\"number\", \"index\"], [\"number\", \"V1\"], [\"number\", \"V2\"], [\"number\", \"V3\"], [\"number\", \"V4\"], [\"number\", \"V5\"], [\"number\", \"V6\"], [\"number\", \"V7\"], [\"number\", \"V8\"], [\"number\", \"V9\"], [\"number\", \"V10\"], [\"number\", \"V11\"], [\"number\", \"V12\"], [\"number\", \"V13\"], [\"number\", \"V14\"], [\"number\", \"V15\"], [\"number\", \"V16\"], [\"number\", \"V17\"], [\"number\", \"V18\"], [\"number\", \"V19\"], [\"number\", \"V20\"]],\n        rowsPerPage: 25,\n      });\n    ",
            "text/html": [
              "<div>\n",
              "<style scoped>\n",
              "    .dataframe tbody tr th:only-of-type {\n",
              "        vertical-align: middle;\n",
              "    }\n",
              "\n",
              "    .dataframe tbody tr th {\n",
              "        vertical-align: top;\n",
              "    }\n",
              "\n",
              "    .dataframe thead th {\n",
              "        text-align: right;\n",
              "    }\n",
              "</style>\n",
              "<table border=\"1\" class=\"dataframe\">\n",
              "  <thead>\n",
              "    <tr style=\"text-align: right;\">\n",
              "      <th></th>\n",
              "      <th>V1</th>\n",
              "      <th>V2</th>\n",
              "      <th>V3</th>\n",
              "      <th>V4</th>\n",
              "      <th>V5</th>\n",
              "      <th>V6</th>\n",
              "      <th>V7</th>\n",
              "      <th>V8</th>\n",
              "      <th>V9</th>\n",
              "      <th>V10</th>\n",
              "      <th>V11</th>\n",
              "      <th>V12</th>\n",
              "      <th>V13</th>\n",
              "      <th>V14</th>\n",
              "      <th>V15</th>\n",
              "      <th>V16</th>\n",
              "      <th>V17</th>\n",
              "      <th>V18</th>\n",
              "      <th>V19</th>\n",
              "      <th>V20</th>\n",
              "      <th>V21</th>\n",
              "      <th>V22</th>\n",
              "      <th>V23</th>\n",
              "      <th>V24</th>\n",
              "      <th>V25</th>\n",
              "      <th>V26</th>\n",
              "      <th>V27</th>\n",
              "      <th>V28</th>\n",
              "      <th>Class</th>\n",
              "      <th>scaled_amount</th>\n",
              "      <th>scaled_time</th>\n",
              "    </tr>\n",
              "  </thead>\n",
              "  <tbody>\n",
              "    <tr>\n",
              "      <th>107489</th>\n",
              "      <td>1.126376</td>\n",
              "      <td>-1.098248</td>\n",
              "      <td>-0.577764</td>\n",
              "      <td>-0.759379</td>\n",
              "      <td>-0.332117</td>\n",
              "      <td>0.416791</td>\n",
              "      <td>-0.313358</td>\n",
              "      <td>0.087788</td>\n",
              "      <td>-0.833831</td>\n",
              "      <td>0.715774</td>\n",
              "      <td>-0.045756</td>\n",
              "      <td>-0.217078</td>\n",
              "      <td>-0.811822</td>\n",
              "      <td>0.423736</td>\n",
              "      <td>-0.270204</td>\n",
              "      <td>-1.483939</td>\n",
              "      <td>-0.015519</td>\n",
              "      <td>1.183741</td>\n",
              "      <td>-0.130604</td>\n",
              "      <td>-0.264191</td>\n",
              "      <td>-0.373034</td>\n",
              "      <td>-0.837598</td>\n",
              "      <td>-0.244608</td>\n",
              "      <td>-1.124420</td>\n",
              "      <td>0.397179</td>\n",
              "      <td>1.165232</td>\n",
              "      <td>-0.091532</td>\n",
              "      <td>-0.005090</td>\n",
              "      <td>0</td>\n",
              "      <td>0.242126</td>\n",
              "      <td>-0.407910</td>\n",
              "    </tr>\n",
              "    <tr>\n",
              "      <th>137794</th>\n",
              "      <td>-0.694913</td>\n",
              "      <td>0.956927</td>\n",
              "      <td>0.669175</td>\n",
              "      <td>-0.950677</td>\n",
              "      <td>1.421292</td>\n",
              "      <td>-1.232131</td>\n",
              "      <td>1.727706</td>\n",
              "      <td>-1.021726</td>\n",
              "      <td>1.968499</td>\n",
              "      <td>0.166092</td>\n",
              "      <td>0.261408</td>\n",
              "      <td>-2.427117</td>\n",
              "      <td>1.948633</td>\n",
              "      <td>0.864259</td>\n",
              "      <td>-1.005384</td>\n",
              "      <td>-0.824551</td>\n",
              "      <td>0.014979</td>\n",
              "      <td>-0.412743</td>\n",
              "      <td>-0.077938</td>\n",
              "      <td>0.413733</td>\n",
              "      <td>-0.480843</td>\n",
              "      <td>-0.202652</td>\n",
              "      <td>-0.206614</td>\n",
              "      <td>-0.153014</td>\n",
              "      <td>-0.038981</td>\n",
              "      <td>-0.226299</td>\n",
              "      <td>0.035737</td>\n",
              "      <td>-0.274391</td>\n",
              "      <td>0</td>\n",
              "      <td>-0.353229</td>\n",
              "      <td>0.073832</td>\n",
              "    </tr>\n",
              "    <tr>\n",
              "      <th>75186</th>\n",
              "      <td>-0.859392</td>\n",
              "      <td>0.869226</td>\n",
              "      <td>1.589948</td>\n",
              "      <td>0.116450</td>\n",
              "      <td>0.683623</td>\n",
              "      <td>0.610100</td>\n",
              "      <td>0.674792</td>\n",
              "      <td>0.320177</td>\n",
              "      <td>-0.440045</td>\n",
              "      <td>-0.578624</td>\n",
              "      <td>1.109407</td>\n",
              "      <td>0.889989</td>\n",
              "      <td>-0.593433</td>\n",
              "      <td>0.162087</td>\n",
              "      <td>-1.165508</td>\n",
              "      <td>-0.673112</td>\n",
              "      <td>0.051582</td>\n",
              "      <td>-0.826348</td>\n",
              "      <td>-0.981206</td>\n",
              "      <td>-0.278041</td>\n",
              "      <td>0.079400</td>\n",
              "      <td>0.336837</td>\n",
              "      <td>-0.237509</td>\n",
              "      <td>-0.296085</td>\n",
              "      <td>0.102532</td>\n",
              "      <td>-0.476465</td>\n",
              "      <td>-0.002992</td>\n",
              "      <td>0.092009</td>\n",
              "      <td>0</td>\n",
              "      <td>-0.320205</td>\n",
              "      <td>-0.734919</td>\n",
              "    </tr>\n",
              "  </tbody>\n",
              "</table>\n",
              "</div>"
            ],
            "text/plain": [
              "              V1        V2        V3  ...  Class  scaled_amount  scaled_time\n",
              "107489  1.126376 -1.098248 -0.577764  ...      0       0.242126    -0.407910\n",
              "137794 -0.694913  0.956927  0.669175  ...      0      -0.353229     0.073832\n",
              "75186  -0.859392  0.869226  1.589948  ...      0      -0.320205    -0.734919\n",
              "\n",
              "[3 rows x 31 columns]"
            ]
          },
          "metadata": {
            "tags": []
          },
          "execution_count": 16
        }
      ]
    },
    {
      "cell_type": "code",
      "metadata": {
        "id": "cd6wgfRcsuLv"
      },
      "source": [
        "#Reseting indexes as we took transactions randomly, they came with their indexes\n",
        "filteredTrainLegit.reset_index(drop=True, inplace=True)\n",
        "trainFraud.reset_index(drop=True, inplace=True)"
      ],
      "execution_count": null,
      "outputs": []
    },
    {
      "cell_type": "code",
      "metadata": {
        "id": "TO5YRvYvsuLw",
        "outputId": "a574b24e-fd36-4c55-beb6-636a412b78bd",
        "colab": {
          "base_uri": "https://localhost:8080/",
          "height": 35
        }
      },
      "source": [
        "finalTrain = pd.concat([filteredTrainLegit, trainFraud])\n",
        "len(finalTrain)"
      ],
      "execution_count": null,
      "outputs": [
        {
          "output_type": "execute_result",
          "data": {
            "text/plain": [
              "882"
            ]
          },
          "metadata": {
            "tags": []
          },
          "execution_count": 18
        }
      ]
    },
    {
      "cell_type": "code",
      "metadata": {
        "id": "qjs3NbVdsuLy",
        "outputId": "6516bdcd-6aaa-4e01-dedb-9b64b469e513",
        "colab": {
          "base_uri": "https://localhost:8080/",
          "height": 142
        }
      },
      "source": [
        "#shuffling the training dataset\n",
        "finalTrain = finalTrain.sample(frac=1).reset_index(drop=True)\n",
        "finalTrain.head(3)"
      ],
      "execution_count": null,
      "outputs": [
        {
          "output_type": "execute_result",
          "data": {
            "application/vnd.google.colaboratory.module+javascript": "\n      import \"https://ssl.gstatic.com/colaboratory/data_table/81868506e94e6988/data_table.js\";\n\n      window.createDataTable({\n        data: [[{\n            'v': 0,\n            'f': \"0\",\n        },\n{\n            'v': 1.10800066342019,\n            'f': \"1.10800066342019\",\n        },\n{\n            'v': -0.13054439488599698,\n            'f': \"-0.13054439488599698\",\n        },\n{\n            'v': 1.24204600608401,\n            'f': \"1.24204600608401\",\n        },\n{\n            'v': 1.30004431132426,\n            'f': \"1.30004431132426\",\n        },\n{\n            'v': -0.8560122599924399,\n            'f': \"-0.8560122599924399\",\n        },\n{\n            'v': 0.254205801986681,\n            'f': \"0.254205801986681\",\n        },\n{\n            'v': -0.6835238585920229,\n            'f': \"-0.6835238585920229\",\n        },\n{\n            'v': 0.26844094062754004,\n            'f': \"0.26844094062754004\",\n        },\n{\n            'v': 0.9913262005505401,\n            'f': \"0.9913262005505401\",\n        },\n{\n            'v': -0.22610664063929603,\n            'f': \"-0.22610664063929603\",\n        },\n{\n            'v': -0.685342242622869,\n            'f': \"-0.685342242622869\",\n        },\n{\n            'v': 0.20374577809548103,\n            'f': \"0.20374577809548103\",\n        },\n{\n            'v': -0.6700885732971129,\n            'f': \"-0.6700885732971129\",\n        },\n{\n            'v': -0.195100498794818,\n            'f': \"-0.195100498794818\",\n        },\n{\n            'v': 0.5053796610069,\n            'f': \"0.5053796610069\",\n        },\n{\n            'v': -0.18239424913673002,\n            'f': \"-0.18239424913673002\",\n        },\n{\n            'v': 0.0694398882126033,\n            'f': \"0.0694398882126033\",\n        },\n{\n            'v': -0.427471108400793,\n            'f': \"-0.427471108400793\",\n        },\n{\n            'v': -0.5654202065992441,\n            'f': \"-0.5654202065992441\",\n        },\n{\n            'v': -0.208304507206337,\n            'f': \"-0.208304507206337\",\n        }],\n [{\n            'v': 1,\n            'f': \"1\",\n        },\n{\n            'v': -2.18825324889429,\n            'f': \"-2.18825324889429\",\n        },\n{\n            'v': -1.4921289841353402,\n            'f': \"-1.4921289841353402\",\n        },\n{\n            'v': 0.5560377650260029,\n            'f': \"0.5560377650260029\",\n        },\n{\n            'v': -1.38900473577016,\n            'f': \"-1.38900473577016\",\n        },\n{\n            'v': -1.8141359260867598,\n            'f': \"-1.8141359260867598\",\n        },\n{\n            'v': 0.0208342451771764,\n            'f': \"0.0208342451771764\",\n        },\n{\n            'v': 1.58420147780804,\n            'f': \"1.58420147780804\",\n        },\n{\n            'v': 0.349765154892142,\n            'f': \"0.349765154892142\",\n        },\n{\n            'v': -2.02158440400315,\n            'f': \"-2.02158440400315\",\n        },\n{\n            'v': -0.603316326549989,\n            'f': \"-0.603316326549989\",\n        },\n{\n            'v': 0.38687451030737197,\n            'f': \"0.38687451030737197\",\n        },\n{\n            'v': -0.37851757107058503,\n            'f': \"-0.37851757107058503\",\n        },\n{\n            'v': -0.7584609527492892,\n            'f': \"-0.7584609527492892\",\n        },\n{\n            'v': 0.773367571780896,\n            'f': \"0.773367571780896\",\n        },\n{\n            'v': -0.26274417485248,\n            'f': \"-0.26274417485248\",\n        },\n{\n            'v': -0.5209737189186421,\n            'f': \"-0.5209737189186421\",\n        },\n{\n            'v': -0.41391385718420604,\n            'f': \"-0.41391385718420604\",\n        },\n{\n            'v': 1.7874459737015602,\n            'f': \"1.7874459737015602\",\n        },\n{\n            'v': -0.88006953893437,\n            'f': \"-0.88006953893437\",\n        },\n{\n            'v': 0.704260533208127,\n            'f': \"0.704260533208127\",\n        }],\n [{\n            'v': 2,\n            'f': \"2\",\n        },\n{\n            'v': 1.5373482679189,\n            'f': \"1.5373482679189\",\n        },\n{\n            'v': -1.1122450090562401,\n            'f': \"-1.1122450090562401\",\n        },\n{\n            'v': -0.0476735838104175,\n            'f': \"-0.0476735838104175\",\n        },\n{\n            'v': -1.7032947906147502,\n            'f': \"-1.7032947906147502\",\n        },\n{\n            'v': -0.8116232736732509,\n            'f': \"-0.8116232736732509\",\n        },\n{\n            'v': 0.267423662836922,\n            'f': \"0.267423662836922\",\n        },\n{\n            'v': -1.0850840679461802,\n            'f': \"-1.0850840679461802\",\n        },\n{\n            'v': 0.0478150303758532,\n            'f': \"0.0478150303758532\",\n        },\n{\n            'v': -1.64643226887627,\n            'f': \"-1.64643226887627\",\n        },\n{\n            'v': 1.38620239991045,\n            'f': \"1.38620239991045\",\n        },\n{\n            'v': -1.54321275640185,\n            'f': \"-1.54321275640185\",\n        },\n{\n            'v': -1.5351967878763,\n            'f': \"-1.5351967878763\",\n        },\n{\n            'v': 0.09817652301417401,\n            'f': \"0.09817652301417401\",\n        },\n{\n            'v': -0.237437008236618,\n            'f': \"-0.237437008236618\",\n        },\n{\n            'v': 1.0858790371076301,\n            'f': \"1.0858790371076301\",\n        },\n{\n            'v': -0.12170026979318499,\n            'f': \"-0.12170026979318499\",\n        },\n{\n            'v': 0.27817598444129904,\n            'f': \"0.27817598444129904\",\n        },\n{\n            'v': -0.150717932828884,\n            'f': \"-0.150717932828884\",\n        },\n{\n            'v': 0.0149112524498344,\n            'f': \"0.0149112524498344\",\n        },\n{\n            'v': -0.325259159502197,\n            'f': \"-0.325259159502197\",\n        }]],\n        columns: [[\"number\", \"index\"], [\"number\", \"V1\"], [\"number\", \"V2\"], [\"number\", \"V3\"], [\"number\", \"V4\"], [\"number\", \"V5\"], [\"number\", \"V6\"], [\"number\", \"V7\"], [\"number\", \"V8\"], [\"number\", \"V9\"], [\"number\", \"V10\"], [\"number\", \"V11\"], [\"number\", \"V12\"], [\"number\", \"V13\"], [\"number\", \"V14\"], [\"number\", \"V15\"], [\"number\", \"V16\"], [\"number\", \"V17\"], [\"number\", \"V18\"], [\"number\", \"V19\"], [\"number\", \"V20\"]],\n        rowsPerPage: 25,\n      });\n    ",
            "text/html": [
              "<div>\n",
              "<style scoped>\n",
              "    .dataframe tbody tr th:only-of-type {\n",
              "        vertical-align: middle;\n",
              "    }\n",
              "\n",
              "    .dataframe tbody tr th {\n",
              "        vertical-align: top;\n",
              "    }\n",
              "\n",
              "    .dataframe thead th {\n",
              "        text-align: right;\n",
              "    }\n",
              "</style>\n",
              "<table border=\"1\" class=\"dataframe\">\n",
              "  <thead>\n",
              "    <tr style=\"text-align: right;\">\n",
              "      <th></th>\n",
              "      <th>V1</th>\n",
              "      <th>V2</th>\n",
              "      <th>V3</th>\n",
              "      <th>V4</th>\n",
              "      <th>V5</th>\n",
              "      <th>V6</th>\n",
              "      <th>V7</th>\n",
              "      <th>V8</th>\n",
              "      <th>V9</th>\n",
              "      <th>V10</th>\n",
              "      <th>V11</th>\n",
              "      <th>V12</th>\n",
              "      <th>V13</th>\n",
              "      <th>V14</th>\n",
              "      <th>V15</th>\n",
              "      <th>V16</th>\n",
              "      <th>V17</th>\n",
              "      <th>V18</th>\n",
              "      <th>V19</th>\n",
              "      <th>V20</th>\n",
              "      <th>V21</th>\n",
              "      <th>V22</th>\n",
              "      <th>V23</th>\n",
              "      <th>V24</th>\n",
              "      <th>V25</th>\n",
              "      <th>V26</th>\n",
              "      <th>V27</th>\n",
              "      <th>V28</th>\n",
              "      <th>Class</th>\n",
              "      <th>scaled_amount</th>\n",
              "      <th>scaled_time</th>\n",
              "    </tr>\n",
              "  </thead>\n",
              "  <tbody>\n",
              "    <tr>\n",
              "      <th>0</th>\n",
              "      <td>1.108001</td>\n",
              "      <td>-0.130544</td>\n",
              "      <td>1.242046</td>\n",
              "      <td>1.300044</td>\n",
              "      <td>-0.856012</td>\n",
              "      <td>0.254206</td>\n",
              "      <td>-0.683524</td>\n",
              "      <td>0.268441</td>\n",
              "      <td>0.991326</td>\n",
              "      <td>-0.226107</td>\n",
              "      <td>-0.685342</td>\n",
              "      <td>0.203746</td>\n",
              "      <td>-0.670089</td>\n",
              "      <td>-0.195100</td>\n",
              "      <td>0.505380</td>\n",
              "      <td>-0.182394</td>\n",
              "      <td>0.069440</td>\n",
              "      <td>-0.427471</td>\n",
              "      <td>-0.565420</td>\n",
              "      <td>-0.208305</td>\n",
              "      <td>-0.042273</td>\n",
              "      <td>0.084736</td>\n",
              "      <td>0.032985</td>\n",
              "      <td>0.065878</td>\n",
              "      <td>0.318776</td>\n",
              "      <td>-0.377323</td>\n",
              "      <td>0.084368</td>\n",
              "      <td>0.033569</td>\n",
              "      <td>0</td>\n",
              "      <td>-0.313289</td>\n",
              "      <td>-0.782509</td>\n",
              "    </tr>\n",
              "    <tr>\n",
              "      <th>1</th>\n",
              "      <td>-2.188253</td>\n",
              "      <td>-1.492129</td>\n",
              "      <td>0.556038</td>\n",
              "      <td>-1.389005</td>\n",
              "      <td>-1.814136</td>\n",
              "      <td>0.020834</td>\n",
              "      <td>1.584201</td>\n",
              "      <td>0.349765</td>\n",
              "      <td>-2.021584</td>\n",
              "      <td>-0.603316</td>\n",
              "      <td>0.386875</td>\n",
              "      <td>-0.378518</td>\n",
              "      <td>-0.758461</td>\n",
              "      <td>0.773368</td>\n",
              "      <td>-0.262744</td>\n",
              "      <td>-0.520974</td>\n",
              "      <td>-0.413914</td>\n",
              "      <td>1.787446</td>\n",
              "      <td>-0.880070</td>\n",
              "      <td>0.704261</td>\n",
              "      <td>-0.117578</td>\n",
              "      <td>-1.337057</td>\n",
              "      <td>1.157976</td>\n",
              "      <td>-0.110667</td>\n",
              "      <td>0.288417</td>\n",
              "      <td>0.719172</td>\n",
              "      <td>-0.359040</td>\n",
              "      <td>-0.068171</td>\n",
              "      <td>0</td>\n",
              "      <td>1.834523</td>\n",
              "      <td>-0.930842</td>\n",
              "    </tr>\n",
              "    <tr>\n",
              "      <th>2</th>\n",
              "      <td>1.537348</td>\n",
              "      <td>-1.112245</td>\n",
              "      <td>-0.047674</td>\n",
              "      <td>-1.703295</td>\n",
              "      <td>-0.811623</td>\n",
              "      <td>0.267424</td>\n",
              "      <td>-1.085084</td>\n",
              "      <td>0.047815</td>\n",
              "      <td>-1.646432</td>\n",
              "      <td>1.386202</td>\n",
              "      <td>-1.543213</td>\n",
              "      <td>-1.535197</td>\n",
              "      <td>0.098177</td>\n",
              "      <td>-0.237437</td>\n",
              "      <td>1.085879</td>\n",
              "      <td>-0.121700</td>\n",
              "      <td>0.278176</td>\n",
              "      <td>-0.150718</td>\n",
              "      <td>0.014911</td>\n",
              "      <td>-0.325259</td>\n",
              "      <td>-0.517775</td>\n",
              "      <td>-1.173579</td>\n",
              "      <td>0.065238</td>\n",
              "      <td>-1.401310</td>\n",
              "      <td>0.206385</td>\n",
              "      <td>-0.363365</td>\n",
              "      <td>0.043332</td>\n",
              "      <td>0.011809</td>\n",
              "      <td>0</td>\n",
              "      <td>-0.243282</td>\n",
              "      <td>-0.669428</td>\n",
              "    </tr>\n",
              "  </tbody>\n",
              "</table>\n",
              "</div>"
            ],
            "text/plain": [
              "         V1        V2        V3  ...  Class  scaled_amount  scaled_time\n",
              "0  1.108001 -0.130544  1.242046  ...      0      -0.313289    -0.782509\n",
              "1 -2.188253 -1.492129  0.556038  ...      0       1.834523    -0.930842\n",
              "2  1.537348 -1.112245 -0.047674  ...      0      -0.243282    -0.669428\n",
              "\n",
              "[3 rows x 31 columns]"
            ]
          },
          "metadata": {
            "tags": []
          },
          "execution_count": 19
        }
      ]
    },
    {
      "cell_type": "code",
      "metadata": {
        "id": "0gKQnTkasuL2",
        "outputId": "219f503f-03bf-4259-a96a-d16b47cdc1d0",
        "colab": {
          "base_uri": "https://localhost:8080/",
          "height": 317
        }
      },
      "source": [
        "#Check how many legit and Fraudulent transactions we have\n",
        "\n",
        "count = finalTrain.Class.value_counts()\n",
        "sns.barplot(x=count.index, y=count)\n",
        "plt.title('Legit vs. Fraudulent Transactions from training dataset')\n",
        "plt.ylabel('Count')\n",
        "plt.xlabel('0:Legit           1:Fraudulent')"
      ],
      "execution_count": null,
      "outputs": [
        {
          "output_type": "execute_result",
          "data": {
            "text/plain": [
              "Text(0.5, 0, '0:Legit           1:Fraudulent')"
            ]
          },
          "metadata": {
            "tags": []
          },
          "execution_count": 20
        },
        {
          "output_type": "display_data",
          "data": {
            "image/png": "[encoded data removed]",
            "text/plain": [
              "<Figure size 432x288 with 1 Axes>"
            ]
          },
          "metadata": {
            "tags": []
          }
        }
      ]
    },
    {
      "cell_type": "code",
      "metadata": {
        "id": "X_nLnKaEsuL6"
      },
      "source": [
        "#Could be double checking the correlations"
      ],
      "execution_count": null,
      "outputs": []
    },
    {
      "cell_type": "code",
      "metadata": {
        "id": "4ScsGvJhsuMG",
        "outputId": "2f69455c-bb58-4b44-8d3d-9a89c9552128",
        "colab": {
          "base_uri": "https://localhost:8080/",
          "height": 35
        }
      },
      "source": [
        "#Removing extreme outliers\n",
        "initialLength = len(finalTrain)\n",
        "\n",
        "Q1 = finalTrain.quantile(0.25)\n",
        "Q3 = finalTrain.quantile(0.75)\n",
        "IQR = Q3 - Q1\n",
        "\n",
        "finalTrain = finalTrain[~((finalTrain < (Q1 - 2.5 * IQR)) |(finalTrain > (Q3 + 2.5 * IQR))).any(axis=1)]\n",
        "\n",
        "finalLength = len(finalTrain)\n",
        "difference  = initialLength - finalLength\n",
        "\n",
        "print('initial size {} reduced by {} transactions to {} transactions.'.format(initialLength, difference, finalLength))"
      ],
      "execution_count": null,
      "outputs": [
        {
          "output_type": "stream",
          "text": [
            "initial size 882 reduced by 267 transactions to 615 transactions.\n"
          ],
          "name": "stdout"
        }
      ]
    },
    {
      "cell_type": "code",
      "metadata": {
        "id": "BF9gImVVsuMK"
      },
      "source": [
        "#4-  Dimension reduction to help visualize the dataset on a 2d space\n",
        "from sklearn.manifold import TSNE\n",
        "# the training dataset without the column we want to target\n",
        "X = finalTrain.drop('Class', axis=1)\n",
        "# the target prediction column\n",
        "y = finalTrain['Class']"
      ],
      "execution_count": null,
      "outputs": []
    },
    {
      "cell_type": "code",
      "metadata": {
        "id": "lEJfMH0hsuMM"
      },
      "source": [
        "#t-SNE\n",
        "X_reduced_tsne = TSNE(n_components=2, random_state=42).fit_transform(X.values)"
      ],
      "execution_count": null,
      "outputs": []
    },
    {
      "cell_type": "code",
      "metadata": {
        "id": "zJ4rSGCiKLzk",
        "outputId": "c6b3063f-4a05-46e6-9e91-be25da1e7f0a",
        "colab": {
          "base_uri": "https://localhost:8080/",
          "height": 248
        }
      },
      "source": [
        "# t-SNE 3D visualisation of the training dataset\n",
        "from mpl_toolkits.mplot3d import Axes3D\n",
        "import matplotlib.pyplot as plt\n",
        "\n",
        "fig = plt.figure()\n",
        "ax = fig.add_subplot(111, projection='3d')\n",
        "\n",
        "ax.scatter(*zip(*X_reduced_tsne))\n",
        "\n",
        "plt.show()"
      ],
      "execution_count": null,
      "outputs": [
        {
          "output_type": "display_data",
          "data": {
            "image/png": "[encoded data removed]",
            "text/plain": [
              "<Figure size 432x288 with 1 Axes>"
            ]
          },
          "metadata": {
            "tags": []
          }
        }
      ]
    },
    {
      "cell_type": "code",
      "metadata": {
        "id": "ugfuVusosuMN",
        "outputId": "cdb16726-0561-4121-97ca-5e8c44669f02",
        "colab": {
          "base_uri": "https://localhost:8080/",
          "height": 355
        }
      },
      "source": [
        "# t-SNE 2D visualisation of the training dataset\n",
        "import matplotlib.patches as mpatches\n",
        "f, ax = plt.subplots(figsize=(9,5))\n",
        "\n",
        "legit_patch = mpatches.Patch(color='blue', label='Legit')\n",
        "fraud_patch = mpatches.Patch(color='red', label='Fraudulent')\n",
        "\n",
        "ax.scatter(X_reduced_tsne[:,0], X_reduced_tsne[:,1], c=(y == 0), cmap='coolwarm', label='Legit', linewidths=2)\n",
        "ax.scatter(X_reduced_tsne[:,0], X_reduced_tsne[:,1], c=(y == 1), cmap='coolwarm', label='Fraudulent', linewidths=2)\n",
        "ax.set_title('t-SNE', fontsize=14)\n",
        "\n",
        "ax.grid(True)\n",
        "ax.legend(handles=[legit_patch, fraud_patch])\n"
      ],
      "execution_count": null,
      "outputs": [
        {
          "output_type": "execute_result",
          "data": {
            "text/plain": [
              "<matplotlib.legend.Legend at 0x7ff132cba4e0>"
            ]
          },
          "metadata": {
            "tags": []
          },
          "execution_count": 26
        },
        {
          "output_type": "display_data",
          "data": {
            "image/png": "[encoded data removed]",
            "text/plain": [
              "<Figure size 648x360 with 1 Axes>"
            ]
          },
          "metadata": {
            "tags": []
          }
        }
      ]
    },
    {
      "cell_type": "code",
      "metadata": {
        "id": "MmU3Bi7psuMR"
      },
      "source": [
        "#5- Prepare Training, testing dataset, Build, Check models and fit the best one with de training dataset"
      ],
      "execution_count": null,
      "outputs": []
    },
    {
      "cell_type": "code",
      "metadata": {
        "id": "F9jCi8ovsuMT"
      },
      "source": [
        "#Spliting the datasets in training and test datasets  using SciKitlearn train_test_split preparation function\n",
        "from sklearn.model_selection import train_test_split\n",
        "X_train, X_test, y_train, y_test = train_test_split(X, y, test_size=0.1, random_state=42)"
      ],
      "execution_count": null,
      "outputs": []
    },
    {
      "cell_type": "code",
      "metadata": {
        "id": "-PpjAi0TsuMX"
      },
      "source": [
        "X_train = X_train.values\n",
        "X_validation = X_test.values\n",
        "y_train = y_train.values\n",
        "y_validation = y_test.values"
      ],
      "execution_count": null,
      "outputs": []
    },
    {
      "cell_type": "code",
      "metadata": {
        "id": "1dxl-aBssuMZ",
        "outputId": "df904f15-f009-45bf-b2e8-9892b674b46f",
        "colab": {
          "base_uri": "https://localhost:8080/",
          "height": 141
        }
      },
      "source": [
        "print('X_shapes:\\n', 'X_train:', 'X_validation:\\n', X_train.shape, X_validation.shape, '\\n')\n",
        "print('Y_shapes:\\n', 'Y_train:', 'Y_validation:\\n', y_train.shape, y_validation.shape)"
      ],
      "execution_count": null,
      "outputs": [
        {
          "output_type": "stream",
          "text": [
            "X_shapes:\n",
            " X_train: X_validation:\n",
            " (553, 30) (62, 30) \n",
            "\n",
            "Y_shapes:\n",
            " Y_train: Y_validation:\n",
            " (553,) (62,)\n"
          ],
          "name": "stdout"
        }
      ]
    },
    {
      "cell_type": "code",
      "metadata": {
        "id": "haIDFqPWsuMd"
      },
      "source": [
        "#Import validation functions and classification models from library\n",
        "from sklearn.model_selection import KFold\n",
        "from sklearn.model_selection import cross_val_score\n",
        "from sklearn.metrics import roc_auc_score\n",
        "from sklearn.metrics import classification_report\n",
        "from sklearn.metrics import confusion_matrix\n",
        "from sklearn.linear_model import LogisticRegression\n",
        "from sklearn.discriminant_analysis import LinearDiscriminantAnalysis\n",
        "from sklearn.neighbors import KNeighborsClassifier\n",
        "from sklearn.tree import DecisionTreeClassifier\n",
        "from sklearn.svm import SVC\n",
        "from xgboost import XGBClassifier\n",
        "from sklearn.ensemble import RandomForestClassifier\n"
      ],
      "execution_count": null,
      "outputs": []
    },
    {
      "cell_type": "code",
      "metadata": {
        "id": "ScRQe2aIsuMf",
        "outputId": "72b379a6-ea74-4afe-b921-033cbae20c74",
        "colab": {
          "base_uri": "https://localhost:8080/",
          "height": 141
        }
      },
      "source": [
        "#Finding the best model for our classification problem\n",
        "# by using the cross_val_score with the roc_auc as the initial dataset have unbalancy class representation (fewer Fraudulent transaction compared to legit ones)\n",
        "\n",
        "#Ignore the warnings to have a greater visibility in console\n",
        "def warn(*args, **kwargs):\n",
        "    pass\n",
        "import warnings\n",
        "warnings.simplefilter(action='ignore', category=FutureWarning)\n",
        "warnings.warn = warn\n",
        "\n",
        "\n",
        "#Instanciate the models\n",
        "models = []\n",
        "models.append(('sk_LR', LogisticRegression()))\n",
        "models.append(('sk_LDA', LinearDiscriminantAnalysis()))\n",
        "models.append(('sk_KNN', KNeighborsClassifier()))\n",
        "models.append(('sk_CART', DecisionTreeClassifier()))\n",
        "models.append(('SVM', SVC()))\n",
        "models.append(('XGB', XGBClassifier()))\n",
        "models.append(('RF', RandomForestClassifier()))\n",
        "\n",
        "#instanciates placeholders for the different models\n",
        "results = []\n",
        "names = []\n",
        "\n",
        "#iterates on each models to check the model using the cross_val_score function\n",
        "for name, model in models:\n",
        "    kfold = KFold(n_splits=10, random_state=42)\n",
        "    cv_results = cross_val_score(model, X_train, y_train, cv=kfold, scoring='roc_auc')\n",
        "    results.append(cv_results)\n",
        "    names.append(name)\n",
        "    #msg = '%s model : {:.2f} % accuracy,  (%f)' % (name, cv_results.mean()*100, cv_results.std())\n",
        "    msg = '{}: {:.2f} % accuracy,  ({:.4f} std)'.format(name, cv_results.mean()*100, cv_results.std())\n",
        "\n",
        "    print(msg)\n",
        "\n",
        "#print('There were {} non-fraudulent transactions {:.3f}% and {} fraudulent transactions {:.3f}%.'.format(normal, perc_normal, fraudulent, perc_fraudulent))\n",
        ""
      ],
      "execution_count": null,
      "outputs": [
        {
          "output_type": "stream",
          "text": [
            "sk_LR: 97.69 % accuracy,  (0.0197 std)\n",
            "sk_LDA: 97.48 % accuracy,  (0.0204 std)\n",
            "sk_KNN: 95.24 % accuracy,  (0.0268 std)\n",
            "sk_CART: 90.71 % accuracy,  (0.0326 std)\n",
            "SVM: 96.76 % accuracy,  (0.0236 std)\n",
            "XGB: 97.39 % accuracy,  (0.0155 std)\n",
            "RF: 96.82 % accuracy,  (0.0206 std)\n"
          ],
          "name": "stdout"
        }
      ]
    },
    {
      "cell_type": "code",
      "metadata": {
        "id": "TvLuRezSsuMh",
        "outputId": "30c5c1f5-93cb-4277-acb6-cdd8e55c518c",
        "colab": {
          "base_uri": "https://localhost:8080/",
          "height": 518
        }
      },
      "source": [
        "#Compare Algorithms\n",
        "fig = plt.figure(figsize=(8,8))\n",
        "plt.title('Classification Algorithms Accuracies')\n",
        "plt.xlabel('Algorithm')\n",
        "plt.ylabel('ROC-AUC Score')\n",
        "plt.boxplot(results)\n",
        "ax = fig.add_subplot(111)\n",
        "ax.set_xticklabels(names)\n",
        "\n",
        "plt.show()"
      ],
      "execution_count": null,
      "outputs": [
        {
          "output_type": "display_data",
          "data": {
            "image/png": "[encoded data removed]",
            "text/plain": [
              "<Figure size 576x576 with 1 Axes>"
            ]
          },
          "metadata": {
            "tags": []
          }
        }
      ]
    },
    {
      "cell_type": "code",
      "metadata": {
        "id": "rgxjwNFLAG9T",
        "outputId": "84aec4de-34eb-4e92-b2ee-99a4cce7add1",
        "colab": {
          "base_uri": "https://localhost:8080/",
          "height": 141
        }
      },
      "source": [
        "#Working with XgBoost Classifier\n",
        "XGB = XGBClassifier()\n",
        "\n",
        "#Model training\n",
        "XGB.fit(X_train, y_train)"
      ],
      "execution_count": null,
      "outputs": [
        {
          "output_type": "execute_result",
          "data": {
            "text/plain": [
              "XGBClassifier(base_score=0.5, booster='gbtree', colsample_bylevel=1,\n",
              "              colsample_bynode=1, colsample_bytree=1, gamma=0,\n",
              "              learning_rate=0.1, max_delta_step=0, max_depth=3,\n",
              "              min_child_weight=1, missing=None, n_estimators=100, n_jobs=1,\n",
              "              nthread=None, objective='binary:logistic', random_state=0,\n",
              "              reg_alpha=0, reg_lambda=1, scale_pos_weight=1, seed=None,\n",
              "              silent=None, subsample=1, verbosity=1)"
            ]
          },
          "metadata": {
            "tags": []
          },
          "execution_count": 34
        }
      ]
    },
    {
      "cell_type": "code",
      "metadata": {
        "id": "HyP1m9I-yHh3",
        "outputId": "513e51a1-fc28-4bca-9481-138bc8ff0ca5",
        "colab": {
          "base_uri": "https://localhost:8080/",
          "height": 106
        }
      },
      "source": [
        "# Prediction, using XGB.predict( transaction_data)\n",
        "\n",
        "# Here as the new data we want to predict fraudulent or legit transaction we would generate a transaction data by shuffling the original dataset to generate a randomized transaction\n",
        "testTransactionBuilder = data.drop('Class', axis=1)\n",
        "LineCount = testTransactionBuilder.V1.count()\n",
        "for column in testTransactionBuilder:\n",
        "    testTransactionBuilder[column] = np.random.permutation(testTransactionBuilder[column].values)\n",
        "a = random.randint(0,LineCount)\n",
        "Testtxn = testTransactionBuilder.iloc[a]\n",
        "Testtxn = Testtxn.values\n",
        "#Xgboost expects 2D data for prediction, to predict only one sample we have to reshape our test transaction feature vector to a 2D\n",
        "TesttxnXGB = np.array(Testtxn).reshape((1,-1))\n",
        "\n",
        "#Model prediction on new data\n",
        "predict = XGB.predict(TesttxnXGB)\n",
        "\n",
        "#The predict result is the predicted Class 0 for legit transaction and 1\n",
        "if predict[0] == 0:\n",
        "    print(\"Legit transaction, transaction data : {} \".format(TesttxnXGB) )\n",
        "if predict[0] == 1:\n",
        "    print(\"Fraudulent transaction, transaction data: {} \".format(TesttxnXGB))\n",
        "\n"
      ],
      "execution_count": null,
      "outputs": [
        {
          "output_type": "stream",
          "text": [
            "Legit transaction, transaction data : [[ 1.27986073 -1.32356745  2.11767884  1.39556698 -1.58863095 -0.52702338\n",
            "  -1.18971381 -0.25322921 -0.36111394 -0.94434893 -0.57571758  0.42843476\n",
            "   0.28495301  0.32916006  0.90542365 -1.41299776 -0.58361778 -0.226682\n",
            "  -0.59831912  0.02795851 -1.75983854 -0.63785823  0.01010716 -0.46488836\n",
            "   0.54987939  0.14303045 -0.68653178  0.19282292 -0.25331722 -0.32513139]] \n"
          ],
          "name": "stdout"
        }
      ]
    },
    {
      "cell_type": "code",
      "metadata": {
        "id": "dDPzSko90uJF",
        "outputId": "b0b8af36-06dd-403d-d52a-b2fb9c4381a7",
        "colab": {
          "base_uri": "https://localhost:8080/",
          "height": 106
        }
      },
      "source": [
        "#Bonus :: Find a Fraudulent transaction by doing a Loop\n",
        "while predict[0] == 0:\n",
        "  for column in testTransactionBuilder:\n",
        "      testTransactionBuilder[column] = np.random.permutation(testTransactionBuilder[column].values)\n",
        "  a = random.randint(0,LineCount)\n",
        "  Testtxn = testTransactionBuilder.iloc[a]\n",
        "  Testtxn = Testtxn.values\n",
        "  # xgboost expects 2D data for prediction, to predict only one sample we have to reshape our test transaction feature vector to a 2D\n",
        "  TesttxnXGB = np.array(Testtxn).reshape((1,-1))\n",
        "  predict = XGB.predict(TesttxnXGB)\n",
        "#the predict result is the predicted Class 0 for legit transaction and 1\n",
        "if predict[0] == 0:\n",
        "    print(\"Legit transaction: {} \".format(TesttxnXGB) )\n",
        "if predict[0] == 1:\n",
        "    print(\"Fraudulent transaction: {} \".format(TesttxnXGB))"
      ],
      "execution_count": null,
      "outputs": [
        {
          "output_type": "stream",
          "text": [
            "Fraudulent transaction: [[ 1.122298   -0.75852537 -1.01639027 -0.53770864 -0.88203566  1.3285049\n",
            "  -1.05127419 -0.15192432  0.70715225 -0.70900273 -0.2867509   0.24239081\n",
            "  -1.03800415 -3.6600857  -0.80967287 -0.58139265 -0.9653649   1.55609413\n",
            "   0.25337597 -0.13489708 -0.17796487  0.97918657 -0.53775604 -0.56726393\n",
            "   0.32844274 -0.01194113  0.04839564  0.01129521  1.20002709  1.51419402]] \n"
          ],
          "name": "stdout"
        }
      ]
    },
    {
      "cell_type": "code",
      "metadata": {
        "id": "efqyV0mssuMo"
      },
      "source": [],
      "execution_count": null,
      "outputs": []
    }
  ]
}